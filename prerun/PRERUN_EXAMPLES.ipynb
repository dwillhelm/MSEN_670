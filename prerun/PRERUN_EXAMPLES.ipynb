{
 "cells": [
  {
   "cell_type": "code",
   "execution_count": 3,
   "metadata": {},
   "outputs": [],
   "source": [
    "import pymatgen as mg\n",
    "from pymatgen.io.vasp.inputs import *"
   ]
  },
  {
   "cell_type": "code",
   "execution_count": 19,
   "metadata": {},
   "outputs": [
    {
     "name": "stdout",
     "output_type": "stream",
     "text": [
      "ALGO = Fast\n",
      "EDIFF = 0.0004\n",
      "ENCUT = 520\n",
      "IBRION = 2\n",
      "ICHARG = 1\n",
      "ISIF = 3\n",
      "ISMEAR = -5\n",
      "ISPIN = 2\n",
      "LMAXMIX = 4\n",
      "LORBIT = 11\n",
      "LREAL = Auto\n",
      "LWAVE = False\n",
      "NELM = 100\n",
      "NELMIN = 6\n",
      "NPAR = 1\n",
      "NSW = 99\n",
      "PREC = Accurate\n",
      "SIGMA = 0.05\n",
      "\n"
     ]
    }
   ],
   "source": [
    "# convert the INCAR file into a python object\n",
    "# typing 'incar' will show the Tags of the incar object\n",
    "incar = Incar.from_file('INCAR')\n",
    "print(incar)"
   ]
  },
  {
   "cell_type": "code",
   "execution_count": 11,
   "metadata": {},
   "outputs": [
    {
     "data": {
      "text/plain": [
       "3"
      ]
     },
     "execution_count": 11,
     "metadata": {},
     "output_type": "execute_result"
    }
   ],
   "source": [
    "# An example of how to view a specific Tag\n",
    "incar['ISIF']"
   ]
  },
  {
   "cell_type": "code",
   "execution_count": 12,
   "metadata": {},
   "outputs": [
    {
     "data": {
      "text/plain": [
       "520"
      ]
     },
     "execution_count": 12,
     "metadata": {},
     "output_type": "execute_result"
    }
   ],
   "source": [
    "# Show the value of the ENCUT tag\n",
    "incar['ENCUT']"
   ]
  },
  {
   "cell_type": "code",
   "execution_count": 14,
   "metadata": {},
   "outputs": [
    {
     "data": {
      "text/plain": [
       "300"
      ]
     },
     "execution_count": 14,
     "metadata": {},
     "output_type": "execute_result"
    }
   ],
   "source": [
    "# Change ENCUT from 520 to 300\n",
    "incar['ENCUT'] = 300\n",
    "incar['ENCUT']"
   ]
  },
  {
   "cell_type": "code",
   "execution_count": 18,
   "metadata": {},
   "outputs": [
    {
     "name": "stdout",
     "output_type": "stream",
     "text": [
      "ALGO = Fast\n",
      "EDIFF = 0.0004\n",
      "ENCUT = 300\n",
      "IBRION = 2\n",
      "ICHARG = 1\n",
      "ISIF = 3\n",
      "ISMEAR = -5\n",
      "ISPIN = 2\n",
      "LMAXMIX = 4\n",
      "LORBIT = 11\n",
      "LREAL = Auto\n",
      "LWAVE = False\n",
      "NELM = 100\n",
      "NELMIN = 6\n",
      "NPAR = 1\n",
      "NSW = 99\n",
      "PREC = Accurate\n",
      "SIGMA = 0.05\n",
      "\n"
     ]
    }
   ],
   "source": [
    "# Notice the whole object is now updated\n",
    "print(incar)"
   ]
  },
  {
   "cell_type": "code",
   "execution_count": 89,
   "metadata": {},
   "outputs": [
    {
     "name": "stdout",
     "output_type": "stream",
     "text": [
      "Full Formula (Li2 O1)\n",
      "Reduced Formula: Li2O\n",
      "abc   :   3.259762   3.259762   3.259762\n",
      "angles:  60.000000  60.000000  60.000000\n",
      "Sites (3)\n",
      "  #  SP       a     b     c\n",
      "---  ----  ----  ----  ----\n",
      "  0  Li    0.75  0.75  0.75\n",
      "  1  Li    0.25  0.25  0.25\n",
      "  2  O     0     0     0\n"
     ]
    }
   ],
   "source": [
    "# Example: Converting a POSCAR file to a pymatgen structure object...\n",
    "cell = mg.Structure.from_file('POSCAR')\n",
    "print(cell)"
   ]
  },
  {
   "cell_type": "code",
   "execution_count": 20,
   "metadata": {},
   "outputs": [
    {
     "name": "stdout",
     "output_type": "stream",
     "text": [
      "2.305000 2.305000 0.000000\n",
      "0.000000 2.305000 2.305000\n",
      "2.305000 0.000000 2.305000\n"
     ]
    }
   ],
   "source": [
    "# The structure object has a lot of information\n",
    "print(cell.lattice)"
   ]
  },
  {
   "cell_type": "code",
   "execution_count": 22,
   "metadata": {},
   "outputs": [
    {
     "name": "stdout",
     "output_type": "stream",
     "text": [
      "3.259762261269984\n"
     ]
    }
   ],
   "source": [
    "print(cell.lattice.a)"
   ]
  },
  {
   "cell_type": "code",
   "execution_count": 46,
   "metadata": {},
   "outputs": [
    {
     "name": "stdout",
     "output_type": "stream",
     "text": [
      "Li2 O1\n",
      "[3, 3, 8]\n",
      " \n",
      "[[3.4575 3.4575 3.4575]\n",
      " [1.1525 1.1525 1.1525]\n",
      " [0.     0.     0.    ]]\n",
      " \n",
      "24.493045250000005\n"
     ]
    }
   ],
   "source": [
    "print(cell.formula)\n",
    "print(cell.atomic_numbers)\n",
    "print(' ')\n",
    "print(cell.cart_coords)\n",
    "print(' ')\n",
    "print(cell.volume)"
   ]
  },
  {
   "cell_type": "code",
   "execution_count": 43,
   "metadata": {},
   "outputs": [
    {
     "data": {
      "text/plain": [
       "Lattice\n",
       "    abc : 3.259762261269984 3.259762261269984 3.259762261269984\n",
       " angles : 60.00000000000001 60.00000000000001 60.00000000000001\n",
       " volume : 24.493045250000005\n",
       "      A : 2.305 2.305 0.0\n",
       "      B : 0.0 2.305 2.305\n",
       "      C : 2.305 0.0 2.305"
      ]
     },
     "execution_count": 43,
     "metadata": {},
     "output_type": "execute_result"
    }
   ],
   "source": [
    "cell.lattice"
   ]
  },
  {
   "cell_type": "code",
   "execution_count": 54,
   "metadata": {},
   "outputs": [
    {
     "name": "stdout",
     "output_type": "stream",
     "text": [
      "Full Formula (Li2 O1)\n",
      "Reduced Formula: Li2O\n",
      "abc   :   3.259762   3.259762   3.259762\n",
      "angles:  60.000000  60.000000  60.000000\n",
      "Sites (3)\n",
      "  #  SP       a     b     c\n",
      "---  ----  ----  ----  ----\n",
      "  0  Li    0.75  0.75  0.75\n",
      "  1  Li    0.25  0.25  0.25\n",
      "  2  O     0     0     0\n"
     ]
    }
   ],
   "source": [
    "print(cell)"
   ]
  },
  {
   "cell_type": "code",
   "execution_count": 94,
   "metadata": {},
   "outputs": [
    {
     "name": "stdout",
     "output_type": "stream",
     "text": [
      "1.000000 0.000000 0.000000\n",
      "0.000000 1.000000 0.000000\n",
      "0.000000 0.000000 1.000000\n",
      " \n",
      "Full Formula (Li2 O1)\n",
      "Reduced Formula: Li2O\n",
      "abc   :   1.000000   1.000000   1.000000\n",
      "angles:  90.000000  90.000000  90.000000\n",
      "Sites (3)\n",
      "  #  SP       a     b     c\n",
      "---  ----  ----  ----  ----\n",
      "  0  Li    0.75  0.75  0.75\n",
      "  1  Li    0.25  0.25  0.25\n",
      "  2  O     0     0     0\n"
     ]
    }
   ],
   "source": [
    "new_lat = mg.Lattice.from_lengths_and_angles([1,1,1],[90,90,90])\n",
    "print(new_lat)\n",
    "print(' ')\n",
    "cell.modify_lattice(new_lattice=new_lat)\n",
    "print(cell)"
   ]
  },
  {
   "cell_type": "code",
   "execution_count": 105,
   "metadata": {},
   "outputs": [
    {
     "data": {
      "text/plain": [
       "['.ipynb_checkpoints',\n",
       " 'INCAR',\n",
       " 'KPOINTS',\n",
       " 'POSCAR',\n",
       " 'POSCAR_New',\n",
       " 'POTCAR',\n",
       " 'Untitled.ipynb']"
      ]
     },
     "execution_count": 105,
     "metadata": {},
     "output_type": "execute_result"
    }
   ],
   "source": [
    "# We can use the pymatgen object to write a new POSCAR file\n",
    "Poscar(structure=cell,comment='New POSCAR file').write_file('POSCAR_New')\n",
    "\n",
    "# We can see the poscar in the pwd...\n",
    "import os\n",
    "os.listdir()\n"
   ]
  },
  {
   "cell_type": "code",
   "execution_count": 96,
   "metadata": {},
   "outputs": [
    {
     "name": "stdout",
     "output_type": "stream",
     "text": [
      "Automatic kpoint scheme\n",
      "0\n",
      "Monkhorst\n",
      "4 4 4\n",
      "\n"
     ]
    }
   ],
   "source": [
    "# to convert a KPOINTS into a python object\n",
    "kpoints = Kpoints.from_file('KPOINTS')\n",
    "print(kpoints)"
   ]
  },
  {
   "cell_type": "code",
   "execution_count": 99,
   "metadata": {},
   "outputs": [
    {
     "name": "stdout",
     "output_type": "stream",
     "text": [
      "Automatic kpoint scheme\n",
      "0\n",
      "Monkhorst\n",
      "5 5 5\n",
      "\n"
     ]
    }
   ],
   "source": [
    "# To change a kpts value\n",
    "new_kpt = [5,5,5]\n",
    "kpoints.kpts.clear()\n",
    "kpoints.kpts.append(new_kpt)\n",
    "print(kpoints)"
   ]
  },
  {
   "cell_type": "code",
   "execution_count": 4,
   "metadata": {},
   "outputs": [
    {
     "data": {
      "text/plain": [
       "{'INCAR': {'ALGO': 'Fast',\n",
       "  'EDIFF': 0.0004,\n",
       "  'ENCUT': 520,\n",
       "  'IBRION': 2,\n",
       "  'ICHARG': 1,\n",
       "  'ISIF': 3,\n",
       "  'ISMEAR': -5,\n",
       "  'ISPIN': 2,\n",
       "  'LMAXMIX': 4,\n",
       "  'LORBIT': 11,\n",
       "  'LREAL': 'Auto',\n",
       "  'LWAVE': False,\n",
       "  'NELM': 100,\n",
       "  'NELMIN': 6,\n",
       "  'NPAR': 1,\n",
       "  'NSW': 99,\n",
       "  'PREC': 'Accurate',\n",
       "  'SIGMA': 0.05},\n",
       " 'KPOINTS': Automatic kpoint scheme\n",
       " 0\n",
       " Monkhorst\n",
       " 4 4 4,\n",
       " 'POSCAR': Li2 O1\n",
       " 1.0\n",
       " 2.305000 2.305000 0.000000\n",
       " 0.000000 2.305000 2.305000\n",
       " 2.305000 0.000000 2.305000\n",
       " Li O\n",
       " 2 1\n",
       " direct\n",
       " 0.750000 0.750000 0.750000 Li\n",
       " 0.250000 0.250000 0.250000 Li\n",
       " 0.000000 0.000000 0.000000 O,\n",
       " 'POTCAR': [<pymatgen.io.vasp.inputs.PotcarSingle at 0x7fa55a310d30>,\n",
       "  <pymatgen.io.vasp.inputs.PotcarSingle at 0x7fa55a310c18>]}"
      ]
     },
     "execution_count": 4,
     "metadata": {},
     "output_type": "execute_result"
    }
   ],
   "source": [
    "# With the INCAR, POSCAR, KPOINTS as python objects \n",
    "# it is easy to incorperate them into python scripts\n",
    "\n",
    "# Example: \n",
    "incar = Incar.from_file('INCAR')\n",
    "poscar = Poscar.from_file('POSCAR')\n",
    "kpoints = Kpoints.from_file('KPOINTS')\n",
    "potcar = Potcar.from_file('POTCAR')\n",
    "\n",
    "# or ... \n",
    "vasp_set = VaspInput(incar=incar,\n",
    "                     kpoints=kpoints,\n",
    "                     potcar=potcar,\n",
    "                     poscar=poscar)\n",
    "\n",
    "# or ... (will only read from pwd and the files named INCAR, POSCAR, KPOINTS, POTCAR)\n",
    "vasp_set = VaspInput.from_directory('.')\n",
    "vasp_set"
   ]
  },
  {
   "cell_type": "code",
   "execution_count": 109,
   "metadata": {},
   "outputs": [],
   "source": [
    "# import the 'os' and 'shutil' library\n",
    "# os is an useful library for working in a Linux system\n",
    "# It can be useful in creating subdirectories or moving files\n",
    "import os\n",
    "import shutil"
   ]
  },
  {
   "cell_type": "code",
   "execution_count": 125,
   "metadata": {},
   "outputs": [
    {
     "data": {
      "text/plain": [
       "['.ipynb_checkpoints',\n",
       " '100',\n",
       " '200',\n",
       " '300',\n",
       " 'INCAR',\n",
       " 'KPOINTS',\n",
       " 'POSCAR',\n",
       " 'POSCAR_New',\n",
       " 'POTCAR',\n",
       " 'Untitled.ipynb']"
      ]
     },
     "execution_count": 125,
     "metadata": {},
     "output_type": "execute_result"
    }
   ],
   "source": [
    "# Example - looping and stuff like that\n",
    "\n",
    "for new_encut in [100,200,300]:\n",
    "    vasp_set.write_input(output_dir=str(new_encut),make_dir_if_not_present=True)\n",
    "\n",
    "os.listdir()\n"
   ]
  },
  {
   "cell_type": "code",
   "execution_count": 149,
   "metadata": {},
   "outputs": [
    {
     "name": "stdout",
     "output_type": "stream",
     "text": [
      "Full Formula (Li2 O1)\n",
      "Reduced Formula: Li2O\n",
      "abc   :   3.259762   3.259762   3.259762\n",
      "angles:  60.000000  60.000000  60.000000\n",
      "Sites (3)\n",
      "  #  SP       a     b     c\n",
      "---  ----  ----  ----  ----\n",
      "  0  Li    0.75  0.75  0.75\n",
      "  1  Li    0.25  0.25  0.25\n",
      "  2  O     0     0     0\n"
     ]
    }
   ],
   "source": [
    "# or ... \n",
    "cell = mg.Structure.from_file('POSCAR')\n",
    "print(cell)\n",
    "\n"
   ]
  },
  {
   "cell_type": "code",
   "execution_count": 150,
   "metadata": {},
   "outputs": [
    {
     "name": "stdout",
     "output_type": "stream",
     "text": [
      "Full Formula (Cu2 O1)\n",
      "Reduced Formula: Cu2O\n",
      "abc   :   3.259762   3.259762   3.259762\n",
      "angles:  60.000000  60.000000  60.000000\n",
      "Sites (3)\n",
      "  #  SP       a     b     c\n",
      "---  ----  ----  ----  ----\n",
      "  0  Cu    0.75  0.75  0.75\n",
      "  1  Cu    0.25  0.25  0.25\n",
      "  2  O     0     0     0\n"
     ]
    },
    {
     "data": {
      "text/plain": [
       "[Element Cu, Element Cu, Element O]"
      ]
     },
     "execution_count": 150,
     "metadata": {},
     "output_type": "execute_result"
    }
   ],
   "source": [
    "cell.replace_species({'Li':'Cu'})\n",
    "print(cell)\n",
    "cell.species"
   ]
  },
  {
   "cell_type": "code",
   "execution_count": 157,
   "metadata": {},
   "outputs": [
    {
     "name": "stdout",
     "output_type": "stream",
     "text": [
      "[Element Na, Element Na, Element O]\n",
      "[Element K, Element K, Element O]\n",
      "[Element Rb, Element Rb, Element O]\n",
      "[Element Cs, Element Cs, Element O]\n"
     ]
    }
   ],
   "source": [
    "# another example ...\n",
    "\n",
    "atomlist = ['Na','K','Rb','Cs']\n",
    "for new_atom in atomlist: \n",
    "    cell = mg.Structure.from_file('POSCAR')\n",
    "    cell.replace_species({'Li':new_atom})\n",
    "    print(cell.species) \n",
    "    \n",
    "    poscar = Poscar(cell)\n",
    "    incar = Incar.from_file('INCAR')\n",
    "    kpoints = Kpoints.from_file('KPOINTS')\n",
    "    # IMPORTANT: you will need to compile the new POTCARs for the new structures\n",
    "    # the potcar here would be wrong for all except Li2O\n",
    "    # Use the get_potcar.sh script to get the correct POTCARs beforehand\n",
    "    # for example, for Na2O use: get_potcar.sh Na O\n",
    "    # and then rewrite it POTCAR_Na2O (before running loop)\n",
    "    # and then potcar.from_file('POTCAR_Na2O') or to work in the loop 'POTCAR_'+new_atom\n",
    "    potcar = Potcar.from_file('POTCAR')\n",
    "    \n",
    "    vasp_in = VaspInput(incar=incar,poscar=poscar,kpoints=kpoints,potcar=potcar)\n",
    "    new_dir = 'run_'+new_atom\n",
    "    vasp_in.write_input(output_dir=new_dir,make_dir_if_not_present=True)\n",
    "    \n",
    "       \n",
    "    "
   ]
  },
  {
   "cell_type": "code",
   "execution_count": 158,
   "metadata": {},
   "outputs": [
    {
     "data": {
      "text/plain": [
       "['.ipynb_checkpoints',\n",
       " '100',\n",
       " '200',\n",
       " '300',\n",
       " 'INCAR',\n",
       " 'KPOINTS',\n",
       " 'POSCAR',\n",
       " 'POSCAR_New',\n",
       " 'POTCAR',\n",
       " 'Untitled.ipynb',\n",
       " 'run_Cs',\n",
       " 'run_K',\n",
       " 'run_Na',\n",
       " 'run_Rb']"
      ]
     },
     "execution_count": 158,
     "metadata": {},
     "output_type": "execute_result"
    }
   ],
   "source": [
    "os.listdir() "
   ]
  },
  {
   "cell_type": "code",
   "execution_count": null,
   "metadata": {},
   "outputs": [],
   "source": []
  }
 ],
 "metadata": {
  "kernelspec": {
   "display_name": "Python 3",
   "language": "python",
   "name": "python3"
  },
  "language_info": {
   "codemirror_mode": {
    "name": "ipython",
    "version": 3
   },
   "file_extension": ".py",
   "mimetype": "text/x-python",
   "name": "python",
   "nbconvert_exporter": "python",
   "pygments_lexer": "ipython3",
   "version": "3.7.0"
  }
 },
 "nbformat": 4,
 "nbformat_minor": 2
}
