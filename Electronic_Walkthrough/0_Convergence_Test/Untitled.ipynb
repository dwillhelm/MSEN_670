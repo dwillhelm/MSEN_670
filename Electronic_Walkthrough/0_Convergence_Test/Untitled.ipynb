{
 "cells": [
  {
   "cell_type": "code",
   "execution_count": null,
   "metadata": {},
   "outputs": [],
   "source": [
    "# I will demonstrate the some of the possible first steps you might have to\n",
    "# to do when working with VASP\n",
    "\n",
    "# We will optimize the ENCUT and KPOINTS for this structrue. \n",
    "# The POSCAR is from the Materials Project.  \n",
    "# The POSCARs from Materials Project are final, optomized structures,\n",
    "# but we will go through all the usually steps anyways.  \n",
    "\n",
    "# First we will optomize the ENCUT and kpoints mesh"
   ]
  },
  {
   "cell_type": "code",
   "execution_count": 1,
   "metadata": {},
   "outputs": [],
   "source": [
    "# Download Gallium POSCAR (mp-32)"
   ]
  },
  {
   "cell_type": "code",
   "execution_count": 9,
   "metadata": {},
   "outputs": [],
   "source": [
    "import pymatgen as mg\n",
    "from pymatgen.ext.matproj import MPRester\n",
    "from pymatgen.io.vasp.inputs import * \n",
    "import os"
   ]
  },
  {
   "cell_type": "code",
   "execution_count": 19,
   "metadata": {},
   "outputs": [],
   "source": [
    "myapi = ''\n",
    "q = MPRester(myapi)"
   ]
  },
  {
   "cell_type": "code",
   "execution_count": 17,
   "metadata": {},
   "outputs": [
    {
     "name": "stdout",
     "output_type": "stream",
     "text": [
      "Full Formula (Ge8)\n",
      "Reduced Formula: Ge\n",
      "abc   :   5.762863   5.762863   5.762863\n",
      "angles:  90.000000  90.000000  90.000000\n",
      "Sites (8)\n",
      "  #  SP       a     b     c\n",
      "---  ----  ----  ----  ----\n",
      "  0  Ge    0.75  0.75  0.75\n",
      "  1  Ge    0.5   0     0\n",
      "  2  Ge    0.75  0.25  0.25\n",
      "  3  Ge    0.5   0.5   0.5\n",
      "  4  Ge    0.25  0.75  0.25\n",
      "  5  Ge    0     0     0.5\n",
      "  6  Ge    0.25  0.25  0.75\n",
      "  7  Ge    0     0.5   0\n"
     ]
    }
   ],
   "source": [
    "# Ga id = mp-32\n",
    "cell = q.get_structure_by_material_id(material_id='mp-32',\n",
    "                                      conventional_unit_cell=True,\n",
    "                                      final=True)\n",
    "print(cell)\n",
    "# Note - computational costs scale with number of electrons, so using a primitive cell vs a conventional cell is usually preferred."
   ]
  },
  {
   "cell_type": "code",
   "execution_count": 15,
   "metadata": {},
   "outputs": [],
   "source": [
    "Poscar(cell, comment='MP POSCAR: {}'.format(cell.formula)).write_file('POSCAR')"
   ]
  },
  {
   "cell_type": "code",
   "execution_count": 16,
   "metadata": {},
   "outputs": [
    {
     "name": "stdout",
     "output_type": "stream",
     "text": [
      "ALGO = Fast\n",
      "IBRION = -1\n",
      "ISMEAR = 0\n",
      "ISPIN = 1\n",
      "ISYM = 1\n",
      "LCHARG = False\n",
      "LWAVE = False\n",
      "NSW = 0\n",
      "PREC = Normal\n",
      "SIGMA = 0.2\n",
      "\n"
     ]
    }
   ],
   "source": [
    "# An INCAR and KPOINTS has already been writen\n",
    "incar = Incar.from_file('INCAR')\n",
    "# Here are the tags... \n",
    "print(incar)"
   ]
  },
  {
   "cell_type": "code",
   "execution_count": 18,
   "metadata": {},
   "outputs": [],
   "source": [
    "# OK the input files are set up"
   ]
  },
  {
   "cell_type": "code",
   "execution_count": null,
   "metadata": {},
   "outputs": [],
   "source": []
  }
 ],
 "metadata": {
  "kernelspec": {
   "display_name": "Python 3",
   "language": "python",
   "name": "python3"
  },
  "language_info": {
   "codemirror_mode": {
    "name": "ipython",
    "version": 3
   },
   "file_extension": ".py",
   "mimetype": "text/x-python",
   "name": "python",
   "nbconvert_exporter": "python",
   "pygments_lexer": "ipython3",
   "version": "3.6.4"
  }
 },
 "nbformat": 4,
 "nbformat_minor": 2
}
