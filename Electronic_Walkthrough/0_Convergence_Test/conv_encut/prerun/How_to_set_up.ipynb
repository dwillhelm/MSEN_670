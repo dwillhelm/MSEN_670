{
 "cells": [
  {
   "cell_type": "code",
   "execution_count": 1,
   "metadata": {},
   "outputs": [],
   "source": [
    "# Set up a ENCUT scan"
   ]
  },
  {
   "cell_type": "code",
   "execution_count": 4,
   "metadata": {},
   "outputs": [],
   "source": [
    "import pymatgen as mg\n",
    "from pymatgen.io.vasp.inputs import * \n",
    "import os\n",
    "import shutil as sh"
   ]
  },
  {
   "cell_type": "code",
   "execution_count": 11,
   "metadata": {},
   "outputs": [],
   "source": [
    "# Convvert input files to pymatgen objects: \n",
    "poscar = Poscar.from_file('POSCAR')\n",
    "kpoints = Kpoints.from_file('KPOINTS')\n",
    "potcar = Potcar.from_file('POTCAR')\n",
    "incar = Incar.from_file('INCAR')\n",
    "jobfile = 'run.vasp'"
   ]
  },
  {
   "cell_type": "code",
   "execution_count": 13,
   "metadata": {},
   "outputs": [
    {
     "name": "stdout",
     "output_type": "stream",
     "text": [
      "./run_200\n",
      "./run_300\n",
      "./run_400\n",
      "./run_500\n",
      "./run_600\n",
      "./run_700\n",
      "./run_800\n",
      "./run_900\n"
     ]
    }
   ],
   "source": [
    "# Creat a loop to scan through different\n",
    "for encut in [200,300,400,500,600,700,800,900]:\n",
    "    incar['ENCUT'] = encut\n",
    "    subdir = 'run_'+str(encut)\n",
    "    vaspin = VaspInput(incar,kpoints,poscar,potcar)\n",
    "    vaspin.write_input(make_dir_if_not_present=True,\n",
    "                       output_dir=subdir)\n",
    "    os.system('cp run.vasp '+subdir)\n",
    "    path = os.path.join('.',subdir)\n",
    "    print(path)"
   ]
  },
  {
   "cell_type": "code",
   "execution_count": 14,
   "metadata": {},
   "outputs": [],
   "source": [
    "# Now just submit the job in each subdirectory, or use another loop"
   ]
  },
  {
   "cell_type": "code",
   "execution_count": 15,
   "metadata": {},
   "outputs": [],
   "source": [
    "# I use Bash to submit all the jobs at once (Write in linu)"
   ]
  },
  {
   "cell_type": "code",
   "execution_count": null,
   "metadata": {},
   "outputs": [],
   "source": [
    "# for i in run_*;do\n",
    "# > cd $i \n",
    "# bsub < run.vasp\n",
    "# "
   ]
  }
 ],
 "metadata": {
  "kernelspec": {
   "display_name": "Python 3",
   "language": "python",
   "name": "python3"
  },
  "language_info": {
   "codemirror_mode": {
    "name": "ipython",
    "version": 3
   },
   "file_extension": ".py",
   "mimetype": "text/x-python",
   "name": "python",
   "nbconvert_exporter": "python",
   "pygments_lexer": "ipython3",
   "version": "3.6.4"
  }
 },
 "nbformat": 4,
 "nbformat_minor": 2
}
