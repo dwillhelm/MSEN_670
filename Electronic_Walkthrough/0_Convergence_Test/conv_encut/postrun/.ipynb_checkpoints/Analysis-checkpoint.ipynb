{
 "cells": [
  {
   "cell_type": "code",
   "execution_count": 1,
   "metadata": {},
   "outputs": [],
   "source": [
    "# Analysis of ENCUT Scan"
   ]
  },
  {
   "cell_type": "code",
   "execution_count": 50,
   "metadata": {},
   "outputs": [],
   "source": [
    "import pymatgen as mg\n",
    "from pymatgen.io.vasp.outputs import * \n",
    "import matplotlib.pyplot as plt\n",
    "import os\n",
    "import glob\n"
   ]
  },
  {
   "cell_type": "code",
   "execution_count": 51,
   "metadata": {},
   "outputs": [
    {
     "data": {
      "text/plain": [
       "['run_800/vasprun.xml',\n",
       " 'run_700/vasprun.xml',\n",
       " 'run_200/vasprun.xml',\n",
       " 'run_300/vasprun.xml',\n",
       " 'run_900/vasprun.xml',\n",
       " 'run_400/vasprun.xml',\n",
       " 'run_600/vasprun.xml',\n",
       " 'run_500/vasprun.xml']"
      ]
     },
     "execution_count": 51,
     "metadata": {},
     "output_type": "execute_result"
    }
   ],
   "source": [
    "# Loop through subdirs and extract data: \n",
    "# glob is a usefull tool that allows for linux wildcard searches\n",
    "# we will search for the vasprun file in each subdir and create a list...\n",
    "mylist = glob.glob('run_*/vasprun.xml')\n",
    "mylist"
   ]
  },
  {
   "cell_type": "code",
   "execution_count": 52,
   "metadata": {},
   "outputs": [],
   "source": [
    "# We will then loop through the list, pulling the important data we need from each run in the list: \n",
    "E0 = [] # empty list for placing energy E0 and ENCUT value   \n",
    "encut_list = [] \n",
    "EvEncut = [] \n",
    "for i in mylist:\n",
    "    vr = Vasprun(i)\n",
    "    eng = vr.final_energy\n",
    "    enc = int(vr.incar['ENCUT'])\n",
    "    EvEncut.append([enc,eng])\n",
    "    E0.append(vr.final_energy)\n",
    "    encut_list.append(int(vr.incar['ENCUT'])) \n",
    "    "
   ]
  },
  {
   "cell_type": "code",
   "execution_count": 53,
   "metadata": {},
   "outputs": [
    {
     "data": {
      "text/plain": [
       "[[800, -20.88103053],\n",
       " [700, -20.88093817],\n",
       " [200, -20.87503124],\n",
       " [300, -20.87956131],\n",
       " [900, -20.88110188],\n",
       " [400, -20.88032718],\n",
       " [600, -20.88083129],\n",
       " [500, -20.88075237]]"
      ]
     },
     "execution_count": 53,
     "metadata": {},
     "output_type": "execute_result"
    }
   ],
   "source": [
    "EvEncut"
   ]
  },
  {
   "cell_type": "code",
   "execution_count": 56,
   "metadata": {},
   "outputs": [
    {
     "data": {
      "text/plain": [
       "[[200, -20.87503124],\n",
       " [300, -20.87956131],\n",
       " [400, -20.88032718],\n",
       " [500, -20.88075237],\n",
       " [600, -20.88083129],\n",
       " [700, -20.88093817],\n",
       " [800, -20.88103053],\n",
       " [900, -20.88110188]]"
      ]
     },
     "execution_count": 56,
     "metadata": {},
     "output_type": "execute_result"
    }
   ],
   "source": [
    "EvEncut.sort(key=lambda x : x[0])\n",
    "EvEncut"
   ]
  },
  {
   "cell_type": "code",
   "execution_count": 69,
   "metadata": {},
   "outputs": [
    {
     "data": {
      "text/plain": [
       "array([-20.87503124, -20.87956131, -20.88032718, -20.88075237,\n",
       "       -20.88083129, -20.88093817, -20.88103053, -20.88110188])"
      ]
     },
     "execution_count": 69,
     "metadata": {},
     "output_type": "execute_result"
    }
   ],
   "source": [
    "data = np.array(EvEncut)\n",
    "encut = data[:,0]\n",
    "E0 = data[:,1]\n",
    "encut\n",
    "E0"
   ]
  },
  {
   "cell_type": "code",
   "execution_count": 81,
   "metadata": {},
   "outputs": [
    {
     "data": {
      "image/png": "[encoded data removed]",
      "text/plain": [
       "<Figure size 432x288 with 1 Axes>"
      ]
     },
     "metadata": {
      "needs_background": "light"
     },
     "output_type": "display_data"
    }
   ],
   "source": [
    "plt.plot(encut,E0,':b',marker='o')\n",
    "plt.xlabel('Encut')\n",
    "plt.ylabel('Energy, eV')\n",
    "plt.title('Encut Convergence')\n",
    "plt.show() "
   ]
  },
  {
   "cell_type": "code",
   "execution_count": null,
   "metadata": {},
   "outputs": [],
   "source": [
    "# So a good ENCUT should be above 500... "
   ]
  }
 ],
 "metadata": {
  "kernelspec": {
   "display_name": "Python 3",
   "language": "python",
   "name": "python3"
  },
  "language_info": {
   "codemirror_mode": {
    "name": "ipython",
    "version": 3
   },
   "file_extension": ".py",
   "mimetype": "text/x-python",
   "name": "python",
   "nbconvert_exporter": "python",
   "pygments_lexer": "ipython3",
   "version": "3.6.4"
  }
 },
 "nbformat": 4,
 "nbformat_minor": 2
}
