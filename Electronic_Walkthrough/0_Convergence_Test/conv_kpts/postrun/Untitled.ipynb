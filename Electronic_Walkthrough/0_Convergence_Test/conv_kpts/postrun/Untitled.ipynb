{
 "cells": [
  {
   "cell_type": "code",
   "execution_count": 1,
   "metadata": {},
   "outputs": [],
   "source": [
    "# Now to loop through some k-point mesh"
   ]
  },
  {
   "cell_type": "code",
   "execution_count": 2,
   "metadata": {},
   "outputs": [],
   "source": [
    "import pymatgen as mg\n",
    "from pymatgen.io.vasp.inputs import * \n",
    "import os"
   ]
  },
  {
   "cell_type": "code",
   "execution_count": 6,
   "metadata": {},
   "outputs": [],
   "source": [
    "# Input files -> python objects\n",
    "incar = Incar.from_file('INCAR')\n",
    "poscar = Poscar.from_file('POSCAR')\n",
    "kpoints = Kpoints.from_file('KPOINTS')\n",
    "potcar = Potcar.from_file('POTCAR')"
   ]
  },
  {
   "cell_type": "code",
   "execution_count": 8,
   "metadata": {},
   "outputs": [],
   "source": [
    "# Create loop and scan kpts\n",
    "for k in [3,6,9,12,15,18]: \n",
    "    new_k = [[k]*3]\n",
    "    kpoints.kpts = new_k\n",
    "    subdir = 'run_'+str(k)\n",
    "    vaspin = VaspInput(incar,kpoints,poscar,potcar)\n",
    "    vaspin.write_input(output_dir=subdir,\n",
    "                       make_dir_if_not_present=True)\n",
    "    os.system('cp run.vasp '+subdir)"
   ]
  },
  {
   "cell_type": "code",
   "execution_count": null,
   "metadata": {},
   "outputs": [],
   "source": []
  }
 ],
 "metadata": {
  "kernelspec": {
   "display_name": "Python 3",
   "language": "python",
   "name": "python3"
  },
  "language_info": {
   "codemirror_mode": {
    "name": "ipython",
    "version": 3
   },
   "file_extension": ".py",
   "mimetype": "text/x-python",
   "name": "python",
   "nbconvert_exporter": "python",
   "pygments_lexer": "ipython3",
   "version": "3.6.4"
  }
 },
 "nbformat": 4,
 "nbformat_minor": 2
}
