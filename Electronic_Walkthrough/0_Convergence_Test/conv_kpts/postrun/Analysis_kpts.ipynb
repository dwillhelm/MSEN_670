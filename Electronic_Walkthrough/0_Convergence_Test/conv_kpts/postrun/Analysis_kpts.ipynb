{
 "cells": [
  {
   "cell_type": "code",
   "execution_count": 1,
   "metadata": {},
   "outputs": [],
   "source": [
    "# Analysis of KPOINTS convergence scan"
   ]
  },
  {
   "cell_type": "code",
   "execution_count": 2,
   "metadata": {},
   "outputs": [],
   "source": [
    "import pymatgen as mg\n",
    "from pymatgen.io.vasp.outputs import * \n",
    "import matplotlib.pyplot as plt\n",
    "import os\n",
    "import glob\n"
   ]
  },
  {
   "cell_type": "code",
   "execution_count": 12,
   "metadata": {},
   "outputs": [
    {
     "data": {
      "text/plain": [
       "['run_3/vasprun.xml',\n",
       " 'run_15/vasprun.xml',\n",
       " 'run_9/vasprun.xml',\n",
       " 'run_6/vasprun.xml',\n",
       " 'run_18/vasprun.xml',\n",
       " 'run_12/vasprun.xml']"
      ]
     },
     "execution_count": 12,
     "metadata": {},
     "output_type": "execute_result"
    }
   ],
   "source": [
    "# Loop through subdirs and extract data: \n",
    "# glob is a usefull tool that allows for linux wildcard searches\n",
    "# we will search for the vasprun file in each subdir and create a list...\n",
    "mylist = glob.glob('run_*/vasprun.xml')\n",
    "mylist"
   ]
  },
  {
   "cell_type": "code",
   "execution_count": 47,
   "metadata": {},
   "outputs": [
    {
     "data": {
      "text/plain": [
       "[[3, -20.55419818],\n",
       " [15, -20.84053612],\n",
       " [9, -20.83965008],\n",
       " [6, -20.84431262],\n",
       " [18, -20.83973378],\n",
       " [12, -20.83985401]]"
      ]
     },
     "execution_count": 47,
     "metadata": {},
     "output_type": "execute_result"
    }
   ],
   "source": [
    "# We will then loop through the list, pulling the important data we need from each run in the list: \n",
    "data = []  \n",
    "\n",
    "for i in mylist: \n",
    "    vr = Vasprun(i)\n",
    "    eng = vr.final_energy\n",
    "    kpts = vr.kpoints.kpts[0][0]\n",
    "    data.append([kpts,eng])\n",
    "data"
   ]
  },
  {
   "cell_type": "code",
   "execution_count": 48,
   "metadata": {},
   "outputs": [
    {
     "data": {
      "text/plain": [
       "[[3, -20.55419818],\n",
       " [6, -20.84431262],\n",
       " [9, -20.83965008],\n",
       " [12, -20.83985401],\n",
       " [15, -20.84053612],\n",
       " [18, -20.83973378]]"
      ]
     },
     "execution_count": 48,
     "metadata": {},
     "output_type": "execute_result"
    }
   ],
   "source": [
    "data.sort(key=lambda x:x[0])\n",
    "data"
   ]
  },
  {
   "cell_type": "code",
   "execution_count": 52,
   "metadata": {},
   "outputs": [
    {
     "name": "stdout",
     "output_type": "stream",
     "text": [
      "[[  3.         -20.55419818]\n",
      " [  6.         -20.84431262]\n",
      " [  9.         -20.83965008]\n",
      " [ 12.         -20.83985401]\n",
      " [ 15.         -20.84053612]\n",
      " [ 18.         -20.83973378]]\n"
     ]
    }
   ],
   "source": [
    "data = np.array(data)\n",
    "print(data)\n",
    "kpts = data[:,0]\n",
    "E0 = data[:,1]"
   ]
  },
  {
   "cell_type": "code",
   "execution_count": 58,
   "metadata": {},
   "outputs": [
    {
     "data": {
      "image/png": "[encoded data removed]",
      "text/plain": [
       "<Figure size 432x288 with 1 Axes>"
      ]
     },
     "metadata": {
      "needs_background": "light"
     },
     "output_type": "display_data"
    }
   ],
   "source": [
    "# Plot Results\n",
    "plt.plot(kpts,E0,':b',marker='o')\n",
    "plt.xlabel('kpts = NxNxN')\n",
    "plt.ylabel('Energy, eV')\n",
    "plt.title('Kpoint Convergence')\n",
    "plt.show() "
   ]
  },
  {
   "cell_type": "code",
   "execution_count": 57,
   "metadata": {},
   "outputs": [],
   "source": [
    "# So an good k-point mesh would be 6x6x6"
   ]
  },
  {
   "cell_type": "code",
   "execution_count": null,
   "metadata": {},
   "outputs": [],
   "source": []
  }
 ],
 "metadata": {
  "kernelspec": {
   "display_name": "Python 3",
   "language": "python",
   "name": "python3"
  },
  "language_info": {
   "codemirror_mode": {
    "name": "ipython",
    "version": 3
   },
   "file_extension": ".py",
   "mimetype": "text/x-python",
   "name": "python",
   "nbconvert_exporter": "python",
   "pygments_lexer": "ipython3",
   "version": "3.6.4"
  }
 },
 "nbformat": 4,
 "nbformat_minor": 2
}
