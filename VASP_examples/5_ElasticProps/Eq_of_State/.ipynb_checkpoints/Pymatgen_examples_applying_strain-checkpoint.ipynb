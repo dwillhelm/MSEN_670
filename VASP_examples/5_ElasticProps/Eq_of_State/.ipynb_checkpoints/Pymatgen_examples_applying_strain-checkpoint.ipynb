{
 "cells": [
  {
   "cell_type": "code",
   "execution_count": 33,
   "metadata": {},
   "outputs": [],
   "source": [
    "import pymatgen as mg \n",
    "from pymatgen.io.vasp.inputs import Poscar\n",
    "from pymatgen.io.vasp.inputs import Potcar\n",
    "from pymatgen.io.vasp.inputs import Kpoints\n",
    "from pymatgen.io.vasp.inputs import Incar\n",
    "from pymatgen.io.vasp.inputs import VaspInput\n",
    "\n",
    "import os \n",
    "import glob \n",
    "import shutil as sh \n",
    "import numpy as np \n",
    "\n",
    "%matplotlib notebook "
   ]
  },
  {
   "cell_type": "code",
   "execution_count": 34,
   "metadata": {},
   "outputs": [
    {
     "data": {
      "text/plain": [
       "Structure Summary\n",
       "Lattice\n",
       "    abc : 4.03893 4.03893 4.03893\n",
       " angles : 90.0 90.0 90.0\n",
       " volume : 65.88688553896293\n",
       "      A : 4.03893 0.0 0.0\n",
       "      B : 0.0 4.03893 0.0\n",
       "      C : 0.0 0.0 4.03893\n",
       "PeriodicSite: Al (0.0000, 0.0000, 0.0000) [0.0000, 0.0000, 0.0000]\n",
       "PeriodicSite: Al (0.0000, 2.0195, 2.0195) [0.0000, 0.5000, 0.5000]\n",
       "PeriodicSite: Al (2.0195, 0.0000, 2.0195) [0.5000, 0.0000, 0.5000]\n",
       "PeriodicSite: Al (2.0195, 2.0195, 0.0000) [0.5000, 0.5000, 0.0000]"
      ]
     },
     "execution_count": 34,
     "metadata": {},
     "output_type": "execute_result"
    }
   ],
   "source": [
    "# Read POSCAR file into a python class object, i.e. something we can work with in python/python code\n",
    "\n",
    "cell = mg.Structure.from_file('POSCAR_al4')\n",
    "cell"
   ]
  },
  {
   "cell_type": "code",
   "execution_count": 35,
   "metadata": {},
   "outputs": [
    {
     "data": {
      "text/plain": [
       "Lattice\n",
       "    abc : 4.03893 4.03893 4.03893\n",
       " angles : 90.0 90.0 90.0\n",
       " volume : 65.88688553896293\n",
       "      A : 4.03893 0.0 0.0\n",
       "      B : 0.0 4.03893 0.0\n",
       "      C : 0.0 0.0 4.03893"
      ]
     },
     "execution_count": 35,
     "metadata": {},
     "output_type": "execute_result"
    }
   ],
   "source": [
    "# we can extract some important cystal information from the structure object \"cell\": \n",
    "\n",
    "# For example the lattice information: \n",
    "# abc = lattice vector lenghts for a, b, and c\n",
    "# angles = self explanitory \n",
    "# volume = self explanitory\n",
    "# A,B, C = lattice vectors\n",
    "\n",
    "\n",
    "cell.lattice"
   ]
  },
  {
   "cell_type": "code",
   "execution_count": 36,
   "metadata": {},
   "outputs": [
    {
     "data": {
      "text/plain": [
       "array([[0.      , 0.      , 0.      ],\n",
       "       [0.      , 2.019465, 2.019465],\n",
       "       [2.019465, 0.      , 2.019465],\n",
       "       [2.019465, 2.019465, 0.      ]])"
      ]
     },
     "execution_count": 36,
     "metadata": {},
     "output_type": "execute_result"
    }
   ],
   "source": [
    "# we can also get the positions of the elements in the crystal in cartesion or fractional coords: \n",
    "cell.cart_coords"
   ]
  },
  {
   "cell_type": "code",
   "execution_count": 37,
   "metadata": {},
   "outputs": [
    {
     "data": {
      "text/plain": [
       "array([[0. , 0. , 0. ],\n",
       "       [0. , 0.5, 0.5],\n",
       "       [0.5, 0. , 0.5],\n",
       "       [0.5, 0.5, 0. ]])"
      ]
     },
     "execution_count": 37,
     "metadata": {},
     "output_type": "execute_result"
    }
   ],
   "source": [
    "cell.frac_coords"
   ]
  },
  {
   "cell_type": "code",
   "execution_count": 38,
   "metadata": {},
   "outputs": [
    {
     "data": {
      "text/plain": [
       "[Element Al, Element Al, Element Al, Element Al]"
      ]
     },
     "execution_count": 38,
     "metadata": {},
     "output_type": "execute_result"
    }
   ],
   "source": [
    "# we can also get a list of the elements in order: \n",
    "cell.species"
   ]
  },
  {
   "cell_type": "code",
   "execution_count": 39,
   "metadata": {},
   "outputs": [
    {
     "name": "stdout",
     "output_type": "stream",
     "text": [
      "Al4\n",
      "1.0\n",
      "4.038930 0.000000 0.000000\n",
      "0.000000 4.038930 0.000000\n",
      "0.000000 0.000000 4.038930\n",
      "Al\n",
      "4\n",
      "Selective dynamics\n",
      "direct\n",
      "0.000000 0.000000 0.000000 T T T Al\n",
      "0.000000 0.500000 0.500000 T T T Al\n",
      "0.500000 0.000000 0.500000 T T T Al\n",
      "0.500000 0.500000 0.000000 T T T Al\n",
      "\n"
     ]
    }
   ],
   "source": [
    "# It is possible to convert this back into a poscar using: \n",
    "poscar = Poscar(cell)\n",
    "print(poscar)"
   ]
  },
  {
   "cell_type": "code",
   "execution_count": 40,
   "metadata": {},
   "outputs": [],
   "source": [
    "# To write the poscar to file we must use: \n",
    "poscar.write_file('POSCAR')\n"
   ]
  },
  {
   "cell_type": "code",
   "execution_count": 41,
   "metadata": {},
   "outputs": [
    {
     "data": {
      "text/plain": [
       "Structure Summary\n",
       "Lattice\n",
       "    abc : 4.0793193 4.0793193 4.0793193\n",
       " angles : 90.0 90.0 90.0\n",
       " volume : 67.88332405767906\n",
       "      A : 4.0793193 0.0 0.0\n",
       "      B : 0.0 4.0793193 0.0\n",
       "      C : 0.0 0.0 4.0793193\n",
       "PeriodicSite: Al (0.0000, 0.0000, 0.0000) [0.0000, 0.0000, 0.0000]\n",
       "PeriodicSite: Al (0.0000, 2.0397, 2.0397) [0.0000, 0.5000, 0.5000]\n",
       "PeriodicSite: Al (2.0397, 0.0000, 2.0397) [0.5000, 0.0000, 0.5000]\n",
       "PeriodicSite: Al (2.0397, 2.0397, 0.0000) [0.5000, 0.5000, 0.0000]"
      ]
     },
     "execution_count": 41,
     "metadata": {},
     "output_type": "execute_result"
    }
   ],
   "source": [
    "# The python Structure object makes it easy to work with crystal structures with python\n",
    "# can be used to set up VASP calculations\n",
    "\n",
    "# For example, if we are identifying the equilibirum lattice constant, we can do this by applying strain to the crystal\n",
    "# See homework\n",
    "\n",
    "# There are different ways to do it, one straighforward way is to use some of the functions included in the Structure object\n",
    "\n",
    "cell.apply_strain(0.01)\n",
    "cell\n"
   ]
  },
  {
   "cell_type": "code",
   "execution_count": 42,
   "metadata": {},
   "outputs": [],
   "source": [
    "# Notice that the lattice parameters changed from 4.0389 --> 4.0793 Ang, or a 1% increase in the lattice vector. \n",
    "# Note that this is a hydrostatic strain\n",
    "\n",
    "# Also note, that changing the \"cell\" Structure object does not change the POSCAR file. \n",
    "# This must be done explicitly, as shown above. \n",
    "\n",
    "\n"
   ]
  },
  {
   "cell_type": "code",
   "execution_count": 43,
   "metadata": {},
   "outputs": [
    {
     "name": "stdout",
     "output_type": "stream",
     "text": [
      "4.0793193\n",
      "4.1197086\n",
      "4.2004871999999995\n",
      "4.2812658\n",
      "4.3620444\n",
      "4.442823\n"
     ]
    }
   ],
   "source": [
    "# if for example, you wanted to quickly create many POSCAR files with different applied strain you can use a loop\n",
    "\n",
    "for n, strain in enumerate([0.01, 0.02, 0.04, 0.06, 0.08, 0.1]): \n",
    "    cell = mg.Structure.from_file('POSCAR_al4') # load in the structure information from the file\n",
    "    cell.apply_strain(strain)\n",
    "    poscar = Poscar(cell,comment='crystal under applied strain').write_file(f'POSCAR_N{n}')\n",
    "    print(cell.lattice.a)\n",
    "    \n",
    "\n",
    "# look up enumerate and f-strings if you don't understand, hint. \n",
    "\n",
    "# This loop wrote 6 different POSCAR files named POSCAR_N0, POSCAR_N1, ..., POSCAR_N5 - take a look in your pwd\n",
    "# Each has a different applied strain. You can use these to plot an Equation of State (*you need to include compression too)\n",
    "\n",
    "\n"
   ]
  },
  {
   "cell_type": "code",
   "execution_count": 45,
   "metadata": {},
   "outputs": [
    {
     "data": {
      "text/plain": [
       "Structure Summary\n",
       "Lattice\n",
       "    abc : 4.442823 4.442823 4.442823\n",
       " angles : 90.0 90.0 90.0\n",
       " volume : 87.69544465235968\n",
       "      A : 4.442823 0.0 0.0\n",
       "      B : 0.0 4.442823 0.0\n",
       "      C : 0.0 0.0 4.442823\n",
       "PeriodicSite: Al (0.0000, 0.0000, 0.0000) [0.0000, 0.0000, 0.0000]\n",
       "PeriodicSite: Al (0.0000, 2.2214, 2.2214) [0.0000, 0.5000, 0.5000]\n",
       "PeriodicSite: Al (2.2214, 0.0000, 2.2214) [0.5000, 0.0000, 0.5000]\n",
       "PeriodicSite: Al (2.2214, 2.2214, 0.0000) [0.5000, 0.5000, 0.0000]"
      ]
     },
     "execution_count": 45,
     "metadata": {},
     "output_type": "execute_result"
    }
   ],
   "source": [
    "# Another way of going about it: \n",
    "\n",
    "for n,delta in enumerate(np.linspace(-0.1,0.1,9)): \n",
    "    cell = mg.Structure.from_file('POSCAR_al4')\n",
    "    \n",
    "    a = cell.lattice.a    # cell lattice vector a\n",
    "    M = cell.lattice.matrix # lattice vector matrix\n",
    "    \n",
    "    d = delta\n",
    "    D = np.array([[1+d, 0,   0],\n",
    "                  [0,   1+d, 0],\n",
    "                  [0,   0,   1+d]]) # Deformation matrix for simple hydrostatic strain \n",
    "    \n",
    "    # apply the deformation matrix, i.e. D*M\n",
    "    M1 = M*D\n",
    "    \n",
    "    # Build a new crystal using the defomed matrix\n",
    "    # We will use pymatgen crystal object, but instead of using a POSCAR file as a input, we will build from scratch\n",
    "    \n",
    "    # get the speciels list and positions from old cell: \n",
    "    species = cell.species\n",
    "    coords = cell.frac_coords\n",
    "    \n",
    "    newcell = mg.Structure(lattice=M1,\n",
    "                           species=species,\n",
    "                           coords=coords,\n",
    "                           coords_are_cartesian=False)\n",
    "    \n",
    "    Poscar(newcell).write_file(f'POSCAR_M{n}') # Write a POSCAR file like \"POSCAR_M1\"\n",
    "    \n",
    "newcell # example of new strucuture * this is the last one in the loop fyi\n",
    "    "
   ]
  },
  {
   "cell_type": "code",
   "execution_count": 32,
   "metadata": {},
   "outputs": [],
   "source": [
    "# There are now a seriew of 9 different POSCARS with different strains, i.e. POSCAR_M0, POSCAR_M1, ..., POSCAR_M8\n",
    "\n",
    "# You can now set up all the VASP calculations. \n",
    "# you can do this by creating new directories for each structure, adding the INCAR, KPOINTS, POTCAR, etc. files\n",
    "# note, you can use code to do this, look up python modules \"os\", or \"shutil\"\n",
    "# Or use bash code\n",
    "\n"
   ]
  }
 ],
 "metadata": {
  "kernelspec": {
   "display_name": "Python 3",
   "language": "python",
   "name": "python3"
  },
  "language_info": {
   "codemirror_mode": {
    "name": "ipython",
    "version": 3
   },
   "file_extension": ".py",
   "mimetype": "text/x-python",
   "name": "python",
   "nbconvert_exporter": "python",
   "pygments_lexer": "ipython3",
   "version": "3.7.5"
  }
 },
 "nbformat": 4,
 "nbformat_minor": 4
}
