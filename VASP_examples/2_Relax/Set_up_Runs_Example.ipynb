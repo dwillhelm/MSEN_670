{
 "cells": [
  {
   "cell_type": "code",
   "execution_count": 1,
   "metadata": {},
   "outputs": [],
   "source": [
    "# Set up a relaxation run using the VASP input file templates"
   ]
  },
  {
   "cell_type": "code",
   "execution_count": 1,
   "metadata": {},
   "outputs": [],
   "source": [
    "# Import the mods\n",
    "import pymatgen as mg \n",
    "from pymatgen.io.vasp.inputs import * \n",
    "import os, shutil, glob"
   ]
  },
  {
   "cell_type": "code",
   "execution_count": 2,
   "metadata": {},
   "outputs": [
    {
     "data": {
      "text/plain": [
       "['POSCAR_MoS2_Bulk',\n",
       " 'POSCAR_MoS2_2D',\n",
       " '.ipynb_checkpoints',\n",
       " 'INCAR.relax',\n",
       " 'job.submit.file',\n",
       " 'mo2.s4',\n",
       " 'Set_up_Runs_Example.pdf',\n",
       " 'mo1.s2',\n",
       " 'Set_up_Runs_Example.ipynb',\n",
       " 'KPOINTS.relax',\n",
       " 'POTCAR_Mo_S']"
      ]
     },
     "execution_count": 2,
     "metadata": {},
     "output_type": "execute_result"
    }
   ],
   "source": [
    "# our cwd: \n",
    "# Contains a template INCAR and KPOINTS, a POTCAR for Mo and S and the two POSCAR files for bulk and 2d MoS2\n",
    "os.listdir() "
   ]
  },
  {
   "cell_type": "code",
   "execution_count": 3,
   "metadata": {},
   "outputs": [
    {
     "data": {
      "text/plain": [
       "['POSCAR_MoS2_Bulk', 'POSCAR_MoS2_2D']"
      ]
     },
     "execution_count": 3,
     "metadata": {},
     "output_type": "execute_result"
    }
   ],
   "source": [
    "# make a list of poscars to loop through... \n",
    "poslist = glob.glob('POSCAR*')\n",
    "poslist"
   ]
  },
  {
   "cell_type": "code",
   "execution_count": 4,
   "metadata": {},
   "outputs": [
    {
     "name": "stderr",
     "output_type": "stream",
     "text": [
      "/home/grads/w/willhelmd/miniconda3/lib/python3.6/site-packages/pymatgen/io/cif.py:44: UserWarning: Please install optional dependency pybtex if youwant to extract references from CIF files.\n",
      "  warnings.warn(\"Please install optional dependency pybtex if you\"\n"
     ]
    }
   ],
   "source": [
    "# make a loop to set up relax run directories: \n",
    "for pos in poslist: \n",
    "    # import a pymatgen structure object\n",
    "    cell = mg.Structure.from_file(pos)\n",
    "    \n",
    "    # create a unique id for run sub directory\n",
    "    fid = '.'.join(cell.formula.split()).lower()\n",
    "    \n",
    "    # get INCAR,KPOINTS,and POTCAR\n",
    "    incar = Incar.from_file('INCAR.relax')\n",
    "    kpoints = Kpoints.from_file('KPOINTS.relax')\n",
    "    potcar = Potcar.from_file('POTCAR_Mo_S')\n",
    "    \n",
    "    # special case for 2D\n",
    "    if '2D' in pos: \n",
    "        kpoints.kpts[0][2] = 1\n",
    "    else: \n",
    "        pass \n",
    "    \n",
    "    # Add VASP objects and generate subdirectories\n",
    "    vaspin = VaspInput(incar=incar,\n",
    "              kpoints=kpoints,\n",
    "              poscar=pos,\n",
    "              potcar=potcar)\n",
    "    \n",
    "    vaspin.write_input(output_dir=fid, \n",
    "                       make_dir_if_not_present=True)\n",
    "    \n",
    "    # Copy the job submit file to the run subdirectories\n",
    "    os.system('cp job.submit.file {}/'.format(fid))"
   ]
  },
  {
   "cell_type": "code",
   "execution_count": null,
   "metadata": {},
   "outputs": [],
   "source": []
  },
  {
   "cell_type": "code",
   "execution_count": null,
   "metadata": {},
   "outputs": [],
   "source": []
  },
  {
   "cell_type": "code",
   "execution_count": null,
   "metadata": {},
   "outputs": [],
   "source": []
  },
  {
   "cell_type": "code",
   "execution_count": null,
   "metadata": {},
   "outputs": [],
   "source": []
  }
 ],
 "metadata": {
  "kernelspec": {
   "display_name": "Python 3",
   "language": "python",
   "name": "python3"
  },
  "language_info": {
   "codemirror_mode": {
    "name": "ipython",
    "version": 3
   },
   "file_extension": ".py",
   "mimetype": "text/x-python",
   "name": "python",
   "nbconvert_exporter": "python",
   "pygments_lexer": "ipython3",
   "version": "3.6.4"
  }
 },
 "nbformat": 4,
 "nbformat_minor": 2
}
