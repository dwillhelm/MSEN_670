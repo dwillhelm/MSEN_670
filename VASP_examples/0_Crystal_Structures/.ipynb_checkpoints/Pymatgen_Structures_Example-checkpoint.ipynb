{
 "cells": [
  {
   "cell_type": "code",
   "execution_count": 20,
   "metadata": {},
   "outputs": [],
   "source": [
    "# An example of how to set up some electronic and optical calculations using VASP. \n",
    "# Assumming an INCAR, KPOINTS and POTCAR file have already been made...\n",
    "\n",
    "# 1. Download a structure from Materials Project or write your own POSCAR from scratch\n",
    "# For this example we will download the MoS2 bulk compound. "
   ]
  },
  {
   "cell_type": "code",
   "execution_count": 21,
   "metadata": {},
   "outputs": [],
   "source": [
    "# Download structure from Materials Project\n",
    "import pymatgen as mg                        # Imports basic pymatgen funcs.\n",
    "from pymatgen.ext.matproj import MPRester    # Imports API for MP material database\n",
    "from pymatgen.io.vasp.inputs import *        # Imports pymatgen/VASP input funcs\n",
    "import os                                    # Useful Linux/Python library\n",
    "\n",
    "# Use your Materials Project API key from profile\n",
    "myAPI = ''  # <-- input you API key here\n",
    "que = MPRester(myAPI)\n"
   ]
  },
  {
   "cell_type": "code",
   "execution_count": 22,
   "metadata": {},
   "outputs": [],
   "source": [
    "# Download the structures of MoS2 Bulk from the MP database\n",
    "# MP id - MoS2 = 'mp-2815'\n",
    "cell_MoS2 = que.get_structure_by_material_id(material_id='mp-2815',\n",
    "                                            conventional_unit_cell=True,\n",
    "                                            final=True)\n",
    "\n",
    "# Notes - conventional_unit_cell = Boolean - True for conventional cell, False for primitive cell\n",
    "#       - final = Boolean - True if final relaxed structure, False for pre-relaxed structure. "
   ]
  },
  {
   "cell_type": "code",
   "execution_count": 23,
   "metadata": {},
   "outputs": [
    {
     "name": "stdout",
     "output_type": "stream",
     "text": [
      "Full Formula (Mo2 S4)\n",
      "Reduced Formula: MoS2\n",
      "abc   :   3.190316   3.190316  14.879004\n",
      "angles:  90.000000  90.000000 120.000000\n",
      "Sites (6)\n",
      "  #  SP           a         b         c\n",
      "---  ----  --------  --------  --------\n",
      "  0  Mo    0.666667  0.333333  0.75\n",
      "  1  Mo    0.333333  0.666667  0.25\n",
      "  2  S     0.333333  0.666667  0.855174\n",
      "  3  S     0.666667  0.333333  0.355174\n",
      "  4  S     0.333333  0.666667  0.644826\n",
      "  5  S     0.666667  0.333333  0.144826\n"
     ]
    }
   ],
   "source": [
    "# You can see a summary of the structure data by printing out the structure objs\n",
    "print(cell_MoS2) \n"
   ]
  },
  {
   "cell_type": "code",
   "execution_count": 24,
   "metadata": {},
   "outputs": [
    {
     "data": {
      "text/plain": [
       "['POSCAR_MoS2_Bulk',\n",
       " 'POSCAR_MoS2_2D',\n",
       " '.ipynb_checkpoints',\n",
       " 'Pymatgen_Structures_Example.ipynb',\n",
       " 'poscars',\n",
       " 'POSCAR_2d_MoS2',\n",
       " 'Band_exmp.ipynb']"
      ]
     },
     "execution_count": 24,
     "metadata": {},
     "output_type": "execute_result"
    }
   ],
   "source": [
    "# We can convert the structure into a POSCAR file with pymatgen code:\n",
    "Poscar(structure=cell_MoS2,\n",
    "       selective_dynamics=False,\n",
    "       comment='MP POSCAR: Hexagonal-MoS2 Bulk ').write_file('POSCAR_MoS2_Bulk')\n",
    "os.listdir()"
   ]
  },
  {
   "cell_type": "code",
   "execution_count": 25,
   "metadata": {},
   "outputs": [],
   "source": [
    "# See the Word doc to see how to write make a POSCAR manually.  \n",
    "# You can make a POSCAR for the 2D a few ways... "
   ]
  },
  {
   "cell_type": "code",
   "execution_count": 26,
   "metadata": {},
   "outputs": [
    {
     "name": "stdout",
     "output_type": "stream",
     "text": [
      "[ 1.59515786 -0.92096482 11.15925323] Mo [ 1.59515786  0.92096482 12.72414238] S [1.59515786 0.92096482 9.59436407] S\n",
      "Full Formula (Mo1 S2)\n",
      "Reduced Formula: MoS2\n",
      "abc   :   3.190316   3.190316  14.879004\n",
      "angles:  90.000000  90.000000 120.000000\n",
      "Sites (3)\n",
      "  #  SP           a         b         c\n",
      "---  ----  --------  --------  --------\n",
      "  0  Mo    0.333333  0.666667  0.25\n",
      "  1  S     0.666667  0.333333  0.355174\n",
      "  2  S     0.666667  0.333333  0.144826\n"
     ]
    }
   ],
   "source": [
    "# You could the sites of one of the layers...\n",
    "\n",
    "# Lets remove these sites: \n",
    "print(cell_MoS2[0],\n",
    "      cell_MoS2[2],\n",
    "      cell_MoS2[4])\n",
    "\n",
    "# To remove use the remove_sites() method\n",
    "cell_MoS2.remove_sites([0,2,4])\n",
    "\n",
    "print(cell_MoS2)"
   ]
  },
  {
   "cell_type": "code",
   "execution_count": 27,
   "metadata": {},
   "outputs": [
    {
     "name": "stdout",
     "output_type": "stream",
     "text": [
      "Full Formula (Mo1 S2)\n",
      "Reduced Formula: MoS2\n",
      "abc   :   3.190316   3.190316  14.879004\n",
      "angles:  90.000000  90.000000 120.000000\n",
      "Sites (3)\n",
      "  #  SP           a         b         c\n",
      "---  ----  --------  --------  --------\n",
      "  0  Mo    0.333333  0.666667  0.5\n",
      "  1  S     0.666667  0.333333  0.605174\n",
      "  2  S     0.666667  0.333333  0.394826\n"
     ]
    }
   ],
   "source": [
    "# Translate the sites so that Mo is centered in the c direction\n",
    "cell_MoS2.translate_sites(indices=[0,1,2],vector=[0,0,0.25])  # shift atoms by 0.25 fract coord\n",
    "print(cell_MoS2)"
   ]
  },
  {
   "cell_type": "code",
   "execution_count": 28,
   "metadata": {},
   "outputs": [
    {
     "name": "stdout",
     "output_type": "stream",
     "text": [
      "Full Formula (Mo1 S2)\n",
      "Reduced Formula: MoS2\n",
      "abc   :   3.190316   3.190316  14.879004\n",
      "angles:  90.000000  90.000000 120.000000\n",
      "Sites (3)\n",
      "  #  SP           a         b         c\n",
      "---  ----  --------  --------  --------\n",
      "  0  Mo    0.333333  0.666667  0.5\n",
      "  1  S     0.666667  0.333333  0.605174\n",
      "  2  S     0.666667  0.333333  0.394826\n"
     ]
    }
   ],
   "source": [
    "print(cell_MoS2)"
   ]
  },
  {
   "cell_type": "code",
   "execution_count": 29,
   "metadata": {},
   "outputs": [
    {
     "name": "stdout",
     "output_type": "stream",
     "text": [
      "Full Formula (Mo1 S2)\n",
      "Reduced Formula: MoS2\n",
      "abc   :   3.190316   3.190316  14.879004\n",
      "angles:  90.000000  90.000000 120.000000\n",
      "Sites (3)\n",
      "  #  SP           a         b         c\n",
      "---  ----  --------  --------  --------\n",
      "  0  Mo    0.333333  0.666667  0.5\n",
      "  1  S     0.666667  0.333333  0.605174\n",
      "  2  S     0.666667  0.333333  0.394826\n"
     ]
    }
   ],
   "source": [
    "# Or we can build one from scratch using pymatgen.\n",
    "# To do so, you need to define a lattice matrix, the species, and their positions. \n",
    "\n",
    "# First define a lattice matrix using the pymatgen.Lattice library: \n",
    "latt = mg.Lattice.from_lengths_and_angles(abc=[3.190316,3.190316, 14.879004],\n",
    "                                          ang=[90.0,90.0,120.0])\n",
    "\n",
    "\n",
    "# Define the atomic species: \n",
    "spec_list = ['Mo','S','S']\n",
    "\n",
    "# Define the atomic positions in an array\n",
    "#atom_pos = np.array([[0.33333, 0.66667, 0.50000],[0.66667,0.33333,0.605174],[0.66667,0.33333,0.394826]])\n",
    "atom_pos = np.array([[1/3,2/3,1/2],[2/3,1/3,0.605174],[2/3,1/3,0.394826]])\n",
    "\n",
    "\n",
    "# Use the pymatgen.Structure function to create a structure object\n",
    "cell_2d = mg.Structure(lattice=latt,\n",
    "                       species=spec_list,\n",
    "                       coords=atom_pos,\n",
    "                       coords_are_cartesian=False,)\n",
    "print(cell_2d)"
   ]
  },
  {
   "cell_type": "code",
   "execution_count": 30,
   "metadata": {},
   "outputs": [
    {
     "data": {
      "text/plain": [
       "['POSCAR_MoS2_Bulk',\n",
       " 'POSCAR_MoS2_2D',\n",
       " '.ipynb_checkpoints',\n",
       " 'Pymatgen_Structures_Example.ipynb',\n",
       " 'poscars',\n",
       " 'POSCAR_2d_MoS2',\n",
       " 'Band_exmp.ipynb']"
      ]
     },
     "execution_count": 30,
     "metadata": {},
     "output_type": "execute_result"
    }
   ],
   "source": [
    "# Write to POSCAR file\n",
    "Poscar(structure=cell_2d,comment='2D Hexagonal MoS2').write_file('POSCAR_MoS2_2D')\n",
    "os.listdir() "
   ]
  },
  {
   "cell_type": "code",
   "execution_count": null,
   "metadata": {},
   "outputs": [],
   "source": []
  }
 ],
 "metadata": {
  "kernelspec": {
   "display_name": "Python 3",
   "language": "python",
   "name": "python3"
  },
  "language_info": {
   "codemirror_mode": {
    "name": "ipython",
    "version": 3
   },
   "file_extension": ".py",
   "mimetype": "text/x-python",
   "name": "python",
   "nbconvert_exporter": "python",
   "pygments_lexer": "ipython3",
   "version": "3.6.4"
  }
 },
 "nbformat": 4,
 "nbformat_minor": 2
}
