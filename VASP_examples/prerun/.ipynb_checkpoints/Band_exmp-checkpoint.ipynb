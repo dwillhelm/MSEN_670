{
 "cells": [
  {
   "cell_type": "code",
   "execution_count": 116,
   "metadata": {},
   "outputs": [],
   "source": [
    "# An example of how to set up some electronic and optical calculations using VASP. \n",
    "# Assumming an INCAR, KPOINTS and POTCAR file have already been made...\n",
    "\n",
    "# 1. Download a structure from Materials Project or write your own POSCAR from scratch\n",
    "# For this example we will download the MoS2 bulk compound. "
   ]
  },
  {
   "cell_type": "code",
   "execution_count": 117,
   "metadata": {},
   "outputs": [],
   "source": [
    "# Download structure from Materials Project\n",
    "import pymatgen as mg                        # Imports basic pymatgen funcs.\n",
    "from pymatgen.ext.matproj import MPRester    # Imports API for MP material database\n",
    "from pymatgen.io.vasp.inputs import *        # Imports pymatgen/VASP input funcs\n",
    "import os                                    # Useful Linux/Python library\n",
    "\n",
    "# Use your Materials Project API key from profile\n",
    "myAPI = '9V30uOARCi8yFPKT'\n",
    "que = MPRester(myAPI)\n"
   ]
  },
  {
   "cell_type": "code",
   "execution_count": 118,
   "metadata": {},
   "outputs": [],
   "source": [
    "# Download the structures of MoS2 Bulk from the MP database\n",
    "# MP id - MoS2 = 'mp-2815'\n",
    "cell_MoS2 = que.get_structure_by_material_id(material_id='mp-2815',\n",
    "                                            conventional_unit_cell=True,\n",
    "                                            final=True)\n",
    "\n",
    "# Notes - conventional_unit_cell = Boolean - True for conventional cell, False for primitive cell\n",
    "#       - final = Boolena - True if final relaxed structure, False for pre-relaxed structure. "
   ]
  },
  {
   "cell_type": "code",
   "execution_count": 135,
   "metadata": {},
   "outputs": [
    {
     "name": "stdout",
     "output_type": "stream",
     "text": [
      "Full Formula (Mo1 S2)\n",
      "Reduced Formula: MoS2\n",
      "abc   :   3.190316   3.190316  14.879004\n",
      "angles:  90.000000  90.000000 120.000000\n",
      "Sites (3)\n",
      "  #  SP           a         b         c\n",
      "---  ----  --------  --------  --------\n",
      "  0  Mo    0.333333  0.666667  0.5\n",
      "  1  S     0.666667  0.333333  0.605174\n",
      "  2  S     0.666667  0.333333  0.394826\n",
      "[[ 1.59515786 -2.76289447  0.        ]\n",
      " [ 1.59515786  2.76289447  0.        ]\n",
      " [ 0.          0.         14.8790043 ]]\n"
     ]
    }
   ],
   "source": [
    "# You can see a summary of the structure data by printing out the structure objs\n",
    "print(cell_MoS2) \n",
    "print(cell_MoS2.lattice.matrix)"
   ]
  },
  {
   "cell_type": "code",
   "execution_count": 105,
   "metadata": {},
   "outputs": [
    {
     "data": {
      "text/plain": [
       "['POSCAR_MoS2_Bulk', '.ipynb_checkpoints', 'Untitled.ipynb', 'Band_exmp.ipynb']"
      ]
     },
     "execution_count": 105,
     "metadata": {},
     "output_type": "execute_result"
    }
   ],
   "source": [
    "# We can convert the structure into a POSCAR file with pymatgen code:\n",
    "Poscar(structure=cell_MoS2,\n",
    "       selective_dynamics=False,\n",
    "       comment='MP POSCAR: Hexagonal-MoS2 Bulk ').write_file('POSCAR_MoS2_Bulk')\n",
    "os.listdir()"
   ]
  },
  {
   "cell_type": "code",
   "execution_count": 106,
   "metadata": {},
   "outputs": [],
   "source": [
    "# See the Word doc to see how to write make a POSCAR manually.  \n",
    "# You can make a POSCAR for the 2D a few ways... "
   ]
  },
  {
   "cell_type": "code",
   "execution_count": 120,
   "metadata": {},
   "outputs": [
    {
     "name": "stdout",
     "output_type": "stream",
     "text": [
      "[ 1.59515786 -0.92096482 11.15925323] Mo [ 1.59515786  0.92096482 12.72414238] S [1.59515786 0.92096482 9.59436407] S\n",
      "Full Formula (Mo1 S2)\n",
      "Reduced Formula: MoS2\n",
      "abc   :   3.190316   3.190316  14.879004\n",
      "angles:  90.000000  90.000000 120.000000\n",
      "Sites (3)\n",
      "  #  SP           a         b         c\n",
      "---  ----  --------  --------  --------\n",
      "  0  Mo    0.333333  0.666667  0.25\n",
      "  1  S     0.666667  0.333333  0.355174\n",
      "  2  S     0.666667  0.333333  0.144826\n"
     ]
    }
   ],
   "source": [
    "# You could the sites of one of the layers...\n",
    "# Lets remove these sites: \n",
    "print(cell_MoS2[0],\n",
    "      cell_MoS2[2],\n",
    "      cell_MoS2[4])\n",
    "cell_MoS2.remove_sites([0,2,4])\n",
    "print(cell_MoS2)"
   ]
  },
  {
   "cell_type": "code",
   "execution_count": 121,
   "metadata": {},
   "outputs": [
    {
     "name": "stdout",
     "output_type": "stream",
     "text": [
      "Full Formula (Mo1 S2)\n",
      "Reduced Formula: MoS2\n",
      "abc   :   3.190316   3.190316  14.879004\n",
      "angles:  90.000000  90.000000 120.000000\n",
      "Sites (3)\n",
      "  #  SP           a         b         c\n",
      "---  ----  --------  --------  --------\n",
      "  0  Mo    0.333333  0.666667  0.5\n",
      "  1  S     0.666667  0.333333  0.605174\n",
      "  2  S     0.666667  0.333333  0.394826\n"
     ]
    }
   ],
   "source": [
    "# Translate the sites so that Mo is centered in the c direction\n",
    "cell_MoS2.translate_sites(indices=[0,1,2],vector=[0,0,0.25])  # shift atoms by 0.25 fract coord\n",
    "print(cell_MoS2)"
   ]
  },
  {
   "cell_type": "code",
   "execution_count": 122,
   "metadata": {},
   "outputs": [
    {
     "name": "stdout",
     "output_type": "stream",
     "text": [
      "Full Formula (Mo1 S2)\n",
      "Reduced Formula: MoS2\n",
      "abc   :   3.190316   3.190316  14.879004\n",
      "angles:  90.000000  90.000000 120.000000\n",
      "Sites (3)\n",
      "  #  SP           a         b         c\n",
      "---  ----  --------  --------  --------\n",
      "  0  Mo    0.333333  0.666667  0.5\n",
      "  1  S     0.666667  0.333333  0.605174\n",
      "  2  S     0.666667  0.333333  0.394826\n"
     ]
    }
   ],
   "source": [
    "print(cell_MoS2)"
   ]
  },
  {
   "cell_type": "code",
   "execution_count": 131,
   "metadata": {},
   "outputs": [
    {
     "name": "stdout",
     "output_type": "stream",
     "text": [
      "Full Formula (Mo1 S2)\n",
      "Reduced Formula: MoS2\n",
      "abc   :   3.190316   3.190316  14.879004\n",
      "angles:  90.000000  90.000000 120.000000\n",
      "Sites (3)\n",
      "  #  SP          a        b         c\n",
      "---  ----  -------  -------  --------\n",
      "  0  Mo    0.33333  0.66667  0.5\n",
      "  1  S     0.66667  0.33333  0.605174\n",
      "  2  S     0.66666  0.33333  0.394826\n"
     ]
    }
   ],
   "source": [
    "# Or we can build one from scratch using pymatgen.\n",
    "latt = mg.Lattice.from_lengths_and_angles(abc=[3.190316,3.190316, 14.879004],\n",
    "                                          ang=[90.0,90.0,120.0])\n",
    "\n",
    "cell_2d = mg.Structure(lattice=latt,species=['Mo','S','S'],\n",
    "                       coords=[[0.33333,0.66667,0.50],[0.66667,0.33333,0.605174],[0.66666,0.33333,0.394826]],\n",
    "                       coords_are_cartesian=False,)\n",
    "print(cell_2d)"
   ]
  },
  {
   "cell_type": "code",
   "execution_count": 134,
   "metadata": {},
   "outputs": [
    {
     "data": {
      "text/plain": [
       "['POSCAR_MoS2_Bulk',\n",
       " '.ipynb_checkpoints',\n",
       " 'Untitled.ipynb',\n",
       " 'POSCAR_2d_MoS2',\n",
       " 'Band_exmp.ipynb']"
      ]
     },
     "execution_count": 134,
     "metadata": {},
     "output_type": "execute_result"
    }
   ],
   "source": [
    "# Write to POSCAR file\n",
    "Poscar(structure=cell_2d,comment='2D Hexagonal MoS2').write_file('POSCAR_2d_MoS2')\n",
    "os.listdir() "
   ]
  },
  {
   "cell_type": "code",
   "execution_count": null,
   "metadata": {},
   "outputs": [],
   "source": []
  },
  {
   "cell_type": "code",
   "execution_count": null,
   "metadata": {},
   "outputs": [],
   "source": []
  },
  {
   "cell_type": "code",
   "execution_count": null,
   "metadata": {},
   "outputs": [],
   "source": []
  },
  {
   "cell_type": "code",
   "execution_count": 112,
   "metadata": {},
   "outputs": [],
   "source": [
    "# The two structures are now pymatgen 'structure' objects.  We can use these to write POSCAR files. \n",
    "# Both structures are diamond cubic structures and have 8 atoms/unit cell.  \n",
    "# Band Structure calculations can be expensive, since DFT computation costs scale with electrons.\n",
    "# We can reduce the computational costs by using the primitive cell, which has only 2 atoms/cell\n",
    "# We can do this by altering the previous lines of code. \n"
   ]
  },
  {
   "cell_type": "code",
   "execution_count": 10,
   "metadata": {},
   "outputs": [],
   "source": []
  },
  {
   "cell_type": "code",
   "execution_count": 12,
   "metadata": {},
   "outputs": [
    {
     "name": "stdout",
     "output_type": "stream",
     "text": [
      "Full Formula (Ga1 P1)\n",
      "Reduced Formula: GaP\n",
      "abc   :   3.893543   3.893543   3.893543\n",
      "angles:  60.000000  60.000000  60.000000\n",
      "Sites (2)\n",
      "  #  SP       a     b     c    magmom\n",
      "---  ----  ----  ----  ----  --------\n",
      "  0  P     0.25  0.25  0.25         0\n",
      "  1  Ga    0     0     0            0\n"
     ]
    }
   ],
   "source": [
    "print(cell_GaP)"
   ]
  },
  {
   "cell_type": "code",
   "execution_count": 17,
   "metadata": {},
   "outputs": [],
   "source": []
  },
  {
   "cell_type": "code",
   "execution_count": null,
   "metadata": {},
   "outputs": [],
   "source": []
  },
  {
   "cell_type": "code",
   "execution_count": null,
   "metadata": {},
   "outputs": [],
   "source": []
  }
 ],
 "metadata": {
  "kernelspec": {
   "display_name": "Python 3",
   "language": "python",
   "name": "python3"
  },
  "language_info": {
   "codemirror_mode": {
    "name": "ipython",
    "version": 3
   },
   "file_extension": ".py",
   "mimetype": "text/x-python",
   "name": "python",
   "nbconvert_exporter": "python",
   "pygments_lexer": "ipython3",
   "version": "3.6.4"
  }
 },
 "nbformat": 4,
 "nbformat_minor": 2
}
