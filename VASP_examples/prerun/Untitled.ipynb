{
 "cells": [
  {
   "cell_type": "code",
   "execution_count": 1,
   "metadata": {},
   "outputs": [],
   "source": [
    "# An example of how to set up some electronic and optical calculations using VASP. \n",
    "\n",
    "# 1. Download a structure from Materials Project or write your own POSCAR from scratch\n",
    "# For this example we will download GaP and GaAs compounds. "
   ]
  },
  {
   "cell_type": "code",
   "execution_count": 26,
   "metadata": {},
   "outputs": [],
   "source": [
    "# Download structure from Materials Project\n",
    "import pymatgen as mg                        # Imports basic pymatgen funcs.\n",
    "from pymatgen.ext.matproj import MPRester    # Imports API for MP material database\n",
    "from pymatgen.io.vasp.inputs import *        # Imports pymatgen/VASP input funcs\n",
    "import os                                    # Useful Linux/Python library\n",
    "\n",
    "# Use your Materials Project API key from profile\n",
    "myAPI = '9V30uOARCi8yFPKT'\n",
    "que = MPRester(myAPI)\n"
   ]
  },
  {
   "cell_type": "code",
   "execution_count": 23,
   "metadata": {},
   "outputs": [],
   "source": [
    "# Download the structures of MoS2 Bulk from the MP database\n",
    "# MP id - MoS2 = 'mp-2815'\n",
    "cell_MoS2 = que.get_structure_by_material_id(material_id='mp-2815',\n",
    "                                            conventional_unit_cell=True,\n",
    "                                            final=True)\n",
    "\n",
    "# Notes - conventional_unit_cell = Boolean - True for conventional cell, False for primitive cell\n",
    "#       - final = Boolena - True if final relaxed structure, False for pre-relaxed structure. "
   ]
  },
  {
   "cell_type": "code",
   "execution_count": 24,
   "metadata": {},
   "outputs": [
    {
     "name": "stdout",
     "output_type": "stream",
     "text": [
      "Full Formula (Mo2 S4)\n",
      "Reduced Formula: MoS2\n",
      "abc   :   3.190316   3.190316  14.879004\n",
      "angles:  90.000000  90.000000 120.000000\n",
      "Sites (6)\n",
      "  #  SP           a         b         c\n",
      "---  ----  --------  --------  --------\n",
      "  0  Mo    0.666667  0.333333  0.75\n",
      "  1  Mo    0.333333  0.666667  0.25\n",
      "  2  S     0.333333  0.666667  0.855174\n",
      "  3  S     0.666667  0.333333  0.355174\n",
      "  4  S     0.333333  0.666667  0.644826\n",
      "  5  S     0.666667  0.333333  0.144826\n"
     ]
    }
   ],
   "source": [
    "# You can see a summary of the structure data by printing out the structure objs\n",
    "print(cell_MoS2) "
   ]
  },
  {
   "cell_type": "code",
   "execution_count": 27,
   "metadata": {},
   "outputs": [
    {
     "data": {
      "text/plain": [
       "['POSCAR_MoS2_Bulk', '.ipynb_checkpoints', 'Untitled.ipynb']"
      ]
     },
     "execution_count": 27,
     "metadata": {},
     "output_type": "execute_result"
    }
   ],
   "source": [
    "# We can convert the structure into a POSCAR file with pymatgen code:\n",
    "Poscar(structure=cell_MoS2,\n",
    "       selective_dynamics=False,\n",
    "       comment='MP POSCAR: Hexagonal-MoS2 Bulk ').write_file('POSCAR_MoS2_Bulk')\n",
    "os.listdir()"
   ]
  },
  {
   "cell_type": "code",
   "execution_count": null,
   "metadata": {},
   "outputs": [],
   "source": [
    "# See the Word doc to see how to write make a POSCAR manually.  "
   ]
  },
  {
   "cell_type": "code",
   "execution_count": 28,
   "metadata": {},
   "outputs": [
    {
     "data": {
      "text/plain": [
       "array([[ 1.59515786, -2.76289447,  0.        ],\n",
       "       [ 1.59515786,  2.76289447,  0.        ],\n",
       "       [ 0.        ,  0.        , 14.8790043 ]])"
      ]
     },
     "execution_count": 28,
     "metadata": {},
     "output_type": "execute_result"
    }
   ],
   "source": [
    "cell_MoS2.lattice.matrix"
   ]
  },
  {
   "cell_type": "code",
   "execution_count": null,
   "metadata": {},
   "outputs": [],
   "source": []
  },
  {
   "cell_type": "code",
   "execution_count": 9,
   "metadata": {},
   "outputs": [],
   "source": [
    "# The two structures are now pymatgen 'structure' objects.  We can use these to write POSCAR files. \n",
    "# Both structures are diamond cubic structures and have 8 atoms/unit cell.  \n",
    "# Band Structure calculations can be expensive, since DFT computation costs scale with electrons.\n",
    "# We can reduce the computational costs by using the primitive cell, which has only 2 atoms/cell\n",
    "# We can do this by altering the previous lines of code. \n"
   ]
  },
  {
   "cell_type": "code",
   "execution_count": 10,
   "metadata": {},
   "outputs": [],
   "source": []
  },
  {
   "cell_type": "code",
   "execution_count": 12,
   "metadata": {},
   "outputs": [
    {
     "name": "stdout",
     "output_type": "stream",
     "text": [
      "Full Formula (Ga1 P1)\n",
      "Reduced Formula: GaP\n",
      "abc   :   3.893543   3.893543   3.893543\n",
      "angles:  60.000000  60.000000  60.000000\n",
      "Sites (2)\n",
      "  #  SP       a     b     c    magmom\n",
      "---  ----  ----  ----  ----  --------\n",
      "  0  P     0.25  0.25  0.25         0\n",
      "  1  Ga    0     0     0            0\n"
     ]
    }
   ],
   "source": [
    "print(cell_GaP)"
   ]
  },
  {
   "cell_type": "code",
   "execution_count": 17,
   "metadata": {},
   "outputs": [],
   "source": []
  },
  {
   "cell_type": "code",
   "execution_count": null,
   "metadata": {},
   "outputs": [],
   "source": []
  },
  {
   "cell_type": "code",
   "execution_count": null,
   "metadata": {},
   "outputs": [],
   "source": []
  }
 ],
 "metadata": {
  "kernelspec": {
   "display_name": "Python 3",
   "language": "python",
   "name": "python3"
  },
  "language_info": {
   "codemirror_mode": {
    "name": "ipython",
    "version": 3
   },
   "file_extension": ".py",
   "mimetype": "text/x-python",
   "name": "python",
   "nbconvert_exporter": "python",
   "pygments_lexer": "ipython3",
   "version": "3.6.4"
  }
 },
 "nbformat": 4,
 "nbformat_minor": 2
}
