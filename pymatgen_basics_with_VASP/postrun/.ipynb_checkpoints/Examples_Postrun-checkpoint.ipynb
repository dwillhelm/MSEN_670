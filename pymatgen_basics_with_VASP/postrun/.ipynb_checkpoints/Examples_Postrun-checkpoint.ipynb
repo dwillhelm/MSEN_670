{
 "cells": [
  {
   "cell_type": "code",
   "execution_count": 1,
   "metadata": {},
   "outputs": [],
   "source": [
    "# Examples of using pymatgen for VASP outputs"
   ]
  },
  {
   "cell_type": "code",
   "execution_count": 10,
   "metadata": {},
   "outputs": [],
   "source": [
    "import pymatgen as mg\n",
    "from pymatgen.io.vasp.outputs import *\n",
    "import os,glob"
   ]
  },
  {
   "cell_type": "code",
   "execution_count": 32,
   "metadata": {},
   "outputs": [
    {
     "data": {
      "text/plain": [
       "{'Average memory used (kb)': 0.0,\n",
       " 'Maximum memory used (kb)': 52476.0,\n",
       " 'Elapsed time (sec)': 36.414,\n",
       " 'System time (sec)': 0.443,\n",
       " 'User time (sec)': 34.943,\n",
       " 'Total CPU time used (sec)': 35.386,\n",
       " 'cores': '1'}"
      ]
     },
     "execution_count": 32,
     "metadata": {},
     "output_type": "execute_result"
    }
   ],
   "source": [
    "# The OUTCAR is the main output file\n",
    "outcar = Outcar(filename='OUTCAR')\n",
    "\n",
    "# There are several methods that can be used with the outcar object. \n",
    "# you can see them by pressing tab if in jupyter notebook or running ipython in linux terminal\n",
    "outcar.run_stats"
   ]
  },
  {
   "cell_type": "code",
   "execution_count": 37,
   "metadata": {},
   "outputs": [
    {
     "name": "stdout",
     "output_type": "stream",
     "text": [
      "0.8588\n",
      "-14.31337758\n",
      "[-26.2787, -26.2787, -71.4275]\n"
     ]
    }
   ],
   "source": [
    "# Some others... \n",
    "print(outcar.efermi)\n",
    "print(outcar.final_energy)\n",
    "print(outcar.electrostatic_potential)"
   ]
  },
  {
   "cell_type": "code",
   "execution_count": 13,
   "metadata": {},
   "outputs": [
    {
     "data": {
      "text/plain": [
       "['       N       E                     dE             d eps       ncg     rms          rms(c)\\n',\n",
       " 'DAV:   1     0.113213082551E+02    0.11321E+02   -0.35779E+03   400   0.656E+02\\n',\n",
       " 'DAV:   2    -0.138473382493E+02   -0.25169E+02   -0.24565E+02   478   0.115E+02\\n',\n",
       " 'DAV:   3    -0.145614072459E+02   -0.71407E+00   -0.71334E+00   456   0.191E+01\\n',\n",
       " 'DAV:   4    -0.145625767772E+02   -0.11695E-02   -0.11695E-02   430   0.959E-01\\n',\n",
       " 'DAV:   5    -0.145625798969E+02   -0.31197E-05   -0.31197E-05   420   0.495E-02    0.113E+01\\n',\n",
       " 'RMM:   6    -0.141590160068E+02    0.40356E+00   -0.35879E+00   400   0.134E+01    0.447E+00\\n',\n",
       " 'RMM:   7    -0.143105155289E+02   -0.15150E+00   -0.10011E-01   400   0.252E+00    0.171E+00\\n',\n",
       " 'RMM:   8    -0.143024720973E+02    0.80434E-02   -0.29283E-02   400   0.169E+00    0.952E-01\\n',\n",
       " 'RMM:   9    -0.143115864818E+02   -0.91144E-02   -0.10956E-02   400   0.108E+00    0.166E-01\\n',\n",
       " 'RMM:  10    -0.143116626359E+02   -0.76154E-04   -0.69146E-04   289   0.180E-01\\n',\n",
       " '   1 F= -.14311663E+02 E0= -.14311663E+02  d E =-.143117E+02  mag=     0.0023\\n',\n",
       " '       N       E                     dE             d eps       ncg     rms          rms(c)\\n',\n",
       " 'DAV:   1    -0.143210095865E+02   -0.94231E-02   -0.15552E-01   420   0.320E+00    0.664E-01\\n',\n",
       " 'RMM:   2    -0.143136979698E+02    0.73116E-02   -0.20874E-02   400   0.106E+00    0.850E-02\\n',\n",
       " 'RMM:   3    -0.143133890695E+02    0.30890E-03   -0.25465E-04   204   0.130E-01    0.343E-02\\n',\n",
       " 'RMM:   4    -0.143133666134E+02    0.22456E-04   -0.11483E-04   202   0.979E-02    0.297E-02\\n',\n",
       " 'RMM:   5    -0.143133469290E+02    0.19684E-04   -0.32624E-06    27   0.227E-02    0.144E-02\\n',\n",
       " 'RMM:   6    -0.143133472739E+02   -0.34492E-06   -0.46623E-05   158   0.491E-02\\n',\n",
       " '   2 F= -.14313347E+02 E0= -.14313347E+02  d E =-.168464E-02  mag=    -0.0000\\n',\n",
       " '       N       E                     dE             d eps       ncg     rms          rms(c)\\n',\n",
       " 'DAV:   1    -0.143134253859E+02   -0.78457E-04   -0.11125E-03   270   0.257E-01    0.519E-02\\n',\n",
       " 'RMM:   2    -0.143133796080E+02    0.45778E-04   -0.13072E-04   199   0.863E-02    0.602E-03\\n',\n",
       " 'RMM:   3    -0.143133780535E+02    0.15545E-05    0.00000E+00     5   0.147E-02    0.333E-03\\n',\n",
       " 'RMM:   4    -0.143133778770E+02    0.17652E-06   -0.44125E-07     7   0.174E-02    0.319E-03\\n',\n",
       " 'RMM:   5    -0.143133776387E+02    0.23831E-06   -0.21467E-08     3   0.145E-02    0.145E-03\\n',\n",
       " 'RMM:   6    -0.143133775796E+02    0.59076E-07   -0.20971E-08     3   0.133E-02\\n',\n",
       " '   3 F= -.14313378E+02 E0= -.14313378E+02  d E =-.171494E-02  mag=     0.0000\\n']"
      ]
     },
     "execution_count": 13,
     "metadata": {},
     "output_type": "execute_result"
    }
   ],
   "source": [
    "# The OSZICAR is an another import output file that has information about the electronic steps and energies\n",
    "# The same info can be found in the OUTCAR, but is more condensed here. \n",
    "f = open('OSZICAR','r')\n",
    "lines = f.readlines()\n",
    "f.close()\n",
    "lines\n",
    "# To view in Linux terminal just use 'vi OSZICAR' or 'cat OSZICAR'"
   ]
  },
  {
   "cell_type": "code",
   "execution_count": 15,
   "metadata": {},
   "outputs": [
    {
     "data": {
      "text/plain": [
       "<pymatgen.io.vasp.outputs.Oszicar at 0x7f96f013e860>"
      ]
     },
     "execution_count": 15,
     "metadata": {},
     "output_type": "execute_result"
    }
   ],
   "source": [
    "# To import the OSZICAR file into a pymatgen object do the following: \n",
    "osz = Oszicar(filename='OSZICAR')\n",
    "osz"
   ]
  },
  {
   "cell_type": "code",
   "execution_count": 83,
   "metadata": {},
   "outputs": [
    {
     "data": {
      "image/png": "[encoded data removed]",
      "text/plain": [
       "<Figure size 432x288 with 1 Axes>"
      ]
     },
     "metadata": {
      "needs_background": "light"
     },
     "output_type": "display_data"
    }
   ],
   "source": [
    "# The object has several methods, you can see them by pressing tab if in jupyter notebook or running ipython in linux terminal\n",
    "# For example: \n",
    "import matplotlib.pyplot as plt\n",
    "from matplotlib.ticker import MaxNLocator\n",
    "\n",
    "ion_steps = osz.ionic_steps\n",
    "x_iterations = list(range(0,len(ion_steps)))\n",
    "y_energies = []\n",
    "for i in range(len(ion_steps)):\n",
    "    eng = ion_steps[i]['E0']\n",
    "    y_energies.append(eng)\n",
    "    \n",
    "plt.plot(x_iterations,y_energies)\n",
    "plt.xlabel('Ionic Steps')\n",
    "plt.ylabel('Energy, eV')\n",
    "plt.xticks(x_iterations)\n",
    "plt.show()"
   ]
  },
  {
   "cell_type": "code",
   "execution_count": 20,
   "metadata": {},
   "outputs": [
    {
     "data": {
      "text/plain": [
       "[{'F': -14.311663, 'E0': -14.311663, 'dE': -14.3117, 'mag': 0.0023},\n",
       " {'F': -14.313347, 'E0': -14.313347, 'dE': -0.00168464, 'mag': -0.0},\n",
       " {'F': -14.313378, 'E0': -14.313378, 'dE': -0.00171494, 'mag': 0.0}]"
      ]
     },
     "execution_count": 20,
     "metadata": {},
     "output_type": "execute_result"
    }
   ],
   "source": [
    "#Another example: \n",
    "osz.ionic_steps"
   ]
  },
  {
   "cell_type": "code",
   "execution_count": 25,
   "metadata": {},
   "outputs": [
    {
     "name": "stdout",
     "output_type": "stream",
     "text": [
      "-14.313378 eV\n"
     ]
    }
   ],
   "source": [
    "# The final energy can also be found from OSZICAR\n",
    "# Note that this can be found in the last line of the OSZICAR file as well\n",
    "E_final = osz.final_energy\n",
    "print(E_final)\n"
   ]
  },
  {
   "cell_type": "code",
   "execution_count": null,
   "metadata": {},
   "outputs": [],
   "source": [
    "# coming up .... Band structue and stuff like that"
   ]
  }
 ],
 "metadata": {
  "kernelspec": {
   "display_name": "Python 3",
   "language": "python",
   "name": "python3"
  },
  "language_info": {
   "codemirror_mode": {
    "name": "ipython",
    "version": 3
   },
   "file_extension": ".py",
   "mimetype": "text/x-python",
   "name": "python",
   "nbconvert_exporter": "python",
   "pygments_lexer": "ipython3",
   "version": "3.6.4"
  }
 },
 "nbformat": 4,
 "nbformat_minor": 2
}
